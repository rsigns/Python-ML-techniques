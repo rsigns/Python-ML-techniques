{
 "cells": [
  {
   "cell_type": "markdown",
   "metadata": {},
   "source": [
    "# Naive Bayes and KNN using scikit-learn\n",
    "\n",
    "Note: The dataset used here is the same diabetic retinopathy set [here](http://archive.ics.uci.edu/ml/datasets/Diabetic+Retinopathy+Debrecen+Data+Set)."
   ]
  },
  {
   "cell_type": "code",
   "execution_count": 4,
   "metadata": {},
   "outputs": [],
   "source": [
    "import warnings\n",
    "warnings.simplefilter(\"ignore\")\n",
    "import pandas as pd\n",
    "import numpy as np\n",
    "import sklearn as sk\n",
    "import matplotlib.pyplot as plt\n",
    "import time\n",
    "from sklearn.neighbors import KNeighborsClassifier\n",
    "from sklearn.naive_bayes import GaussianNB\n",
    "from sklearn.model_selection import cross_val_score\n",
    "from sklearn.model_selection import cross_val_predict\n",
    "from sklearn.metrics import confusion_matrix\n",
    "from sklearn.metrics import classification_report\n",
    "from sklearn.metrics import roc_curve\n",
    "from sklearn.metrics import roc_auc_score\n",
    "from sklearn.model_selection import train_test_split\n",
    "from sklearn.metrics import *\n",
    "from sklearn.preprocessing import MinMaxScaler\n",
    "from sklearn.neighbors import KNeighborsClassifier\n",
    "from sklearn.model_selection import GridSearchCV"
   ]
  },
  {
   "cell_type": "code",
   "execution_count": 5,
   "metadata": {},
   "outputs": [],
   "source": [
    "%matplotlib inline"
   ]
  },
  {
   "cell_type": "code",
   "execution_count": 6,
   "metadata": {},
   "outputs": [
    {
     "name": "stdout",
     "output_type": "stream",
     "text": [
      "(1151, 20)\n"
     ]
    }
   ],
   "source": [
    "# Read the data from csv file\n",
    "col_names = []\n",
    "for i in range(20):\n",
    "    if i == 0:\n",
    "        col_names.append('quality')\n",
    "    if i == 1:\n",
    "        col_names.append('prescreen')\n",
    "    if i >= 2 and i <= 7:\n",
    "        col_names.append('ma' + str(i))\n",
    "    if i >= 8 and i <= 15:\n",
    "        col_names.append('exudate' + str(i))\n",
    "    if i == 16:\n",
    "        col_names.append('euDist')\n",
    "    if i == 17:\n",
    "        col_names.append('diameter')\n",
    "    if i == 18:\n",
    "        col_names.append('amfm_class')\n",
    "    if i == 19:\n",
    "        col_names.append('label')\n",
    "\n",
    "data = pd.read_csv(\"messidor_features.txt\", names = col_names)\n",
    "print(data.shape)\n",
    "data.head(10)\n",
    "classLabel = data.pop(\"label\")"
   ]
  },
  {
   "cell_type": "markdown",
   "metadata": {},
   "source": [
    "## Part 1: Naive Bayes Classifier"
   ]
  },
  {
   "cell_type": "markdown",
   "metadata": {},
   "source": [
    "The code below uses a naive bayes classifier within a 10-fold cross validation algorithm. Accuracy here is presented as an average of the results of the CV."
   ]
  },
  {
   "cell_type": "code",
   "execution_count": 7,
   "metadata": {
    "scrolled": true
   },
   "outputs": [
    {
     "name": "stdout",
     "output_type": "stream",
     "text": [
      "Accuracy: 0.5977286356821588\n"
     ]
    }
   ],
   "source": [
    "naiveBayesClassifier = GaussianNB(priors=None)\n",
    "NBCrossVal = cross_val_score(naiveBayesClassifier,data,classLabel,cv=10)\n",
    "print(\"Accuracy: \"+str(NBCrossVal.mean()))"
   ]
  },
  {
   "cell_type": "markdown",
   "metadata": {},
   "source": [
    "`cross_val_predict` will return the predictions for every record when it was within the test set using the model. The first printed `NBMatrix` object will be a confusion matrix for these predictions, with the layout as follows for the array indexes: \n",
    "* (0,0) = true negatives (value of 501)\n",
    "* (0,1) = false positives (value of 39)\n",
    "* (1,0) = true positives (value of 420)\n",
    "* (1,1) = false negatives (value of 191)\n",
    "\n",
    "Below this matrix is a table of error measures for the predictions from the classifier based on this matrix, with the rows (0 or 1) being doesn't have retinopathy and does have retinopathy respectively."
   ]
  },
  {
   "cell_type": "code",
   "execution_count": 8,
   "metadata": {
    "scrolled": true
   },
   "outputs": [
    {
     "name": "stdout",
     "output_type": "stream",
     "text": [
      "[[501  39]\n",
      " [420 191]]\n",
      "              precision    recall  f1-score   support\n",
      "\n",
      "           0       0.54      0.93      0.69       540\n",
      "           1       0.83      0.31      0.45       611\n",
      "\n",
      "    accuracy                           0.60      1151\n",
      "   macro avg       0.69      0.62      0.57      1151\n",
      "weighted avg       0.70      0.60      0.56      1151\n",
      "\n"
     ]
    }
   ],
   "source": [
    "pred = cross_val_predict(naiveBayesClassifier,data,classLabel)\n",
    "NBMatrix = confusion_matrix(classLabel,pred)\n",
    "print(NBMatrix)\n",
    "classRep = classification_report(classLabel,pred)\n",
    "print(classRep)"
   ]
  },
  {
   "cell_type": "markdown",
   "metadata": {},
   "source": [
    "Below is an implementation of a ROC (Reciever Operating Characteristic) curve for the predictions made by the NB classifier to get good info on the specificity vs sensitivity tradeoff."
   ]
  },
  {
   "cell_type": "markdown",
   "metadata": {},
   "source": [
    "Note:\n",
    "* FPR = false positive rate\n",
    "* TPR = true positive rate"
   ]
  },
  {
   "cell_type": "code",
   "execution_count": 9,
   "metadata": {},
   "outputs": [
    {
     "name": "stdout",
     "output_type": "stream",
     "text": [
      "Area under the curve: 0.6649080494422672\n"
     ]
    },
    {
     "data": {
      "image/png": "[encoded data removed]",
      "text/plain": [
       "<Figure size 432x288 with 1 Axes>"
      ]
     },
     "metadata": {
      "needs_background": "light"
     },
     "output_type": "display_data"
    }
   ],
   "source": [
    "trainData, testData, trainLabels, testLabels =train_test_split(data, classLabel, test_size=0.2, train_size=0.8)\n",
    "# training set data is at 0 index of array and test data is at 1 index of array\n",
    "naiveBayesClassifier.fit(trainData, trainLabels)\n",
    "probArray = naiveBayesClassifier.predict_proba(testData)\n",
    "newROC = roc_curve(testLabels,probArray[:,1])\n",
    "fpr, tpr = newROC[0], newROC[1]\n",
    "print(\"Area under the curve: \"+str(roc_auc_score(testLabels,probArray[:,1])))\n",
    "\n",
    "plt.plot([0,1],[0,1],'k--') #plot the diagonal line\n",
    "plt.plot(fpr, tpr, label='NB') #plot the ROC curve\n",
    "plt.xlabel('fpr')\n",
    "plt.ylabel('tpr')\n",
    "plt.title('ROC Curve Naive Bayes')\n",
    "plt.show()"
   ]
  },
  {
   "cell_type": "markdown",
   "metadata": {},
   "source": [
    "## Part 2: K Nearest Neighbor (KNN) Classifier"
   ]
  },
  {
   "cell_type": "markdown",
   "metadata": {},
   "source": [
    "The dataset will be normalized (between 0 and 1) in order to use a KNN classifier, this is necessary because the usage of distance (usually Euclidean) between points with KNN classifiers leads to class imbalances if normalization is NOT used. `MinMaxScaler` is used to achieve this."
   ]
  },
  {
   "cell_type": "code",
   "execution_count": 10,
   "metadata": {},
   "outputs": [
    {
     "data": {
      "text/plain": [
       "array([[1.        , 1.        , 0.14      , ..., 0.53080127, 0.26113347,\n",
       "        1.        ],\n",
       "       [1.        , 1.        , 0.15333333, ..., 0.68230157, 0.5363407 ,\n",
       "        0.        ],\n",
       "       [1.        , 1.        , 0.40666667, ..., 0.72683611, 0.43797313,\n",
       "        0.        ],\n",
       "       ...,\n",
       "       [1.        , 0.        , 0.32      , ..., 0.85928137, 0.446002  ,\n",
       "        0.        ],\n",
       "       [1.        , 1.        , 0.25333333, ..., 0.52665345, 0.30245578,\n",
       "        1.        ],\n",
       "       [1.        , 1.        , 0.04      , ..., 0.83950012, 0.192513  ,\n",
       "        0.        ]])"
      ]
     },
     "execution_count": 10,
     "metadata": {},
     "output_type": "execute_result"
    }
   ],
   "source": [
    "scaler = MinMaxScaler()\n",
    "scaler.fit(data)\n",
    "scaledData = scaler.transform(data)\n",
    "scaledData"
   ]
  },
  {
   "cell_type": "markdown",
   "metadata": {
    "collapsed": true
   },
   "source": [
    "A `k = 5` classifier will be used within a 10-fold CV and some error measures will be printed in order to get an idea of the effectiveness of this classifier"
   ]
  },
  {
   "cell_type": "code",
   "execution_count": 11,
   "metadata": {},
   "outputs": [
    {
     "name": "stdout",
     "output_type": "stream",
     "text": [
      "              precision    recall  f1-score   support\n",
      "\n",
      "           0       0.60      0.65      0.62       540\n",
      "           1       0.67      0.62      0.64       611\n",
      "\n",
      "    accuracy                           0.64      1151\n",
      "   macro avg       0.64      0.64      0.63      1151\n",
      "weighted avg       0.64      0.64      0.64      1151\n",
      "\n"
     ]
    }
   ],
   "source": [
    "KNN = KNeighborsClassifier()\n",
    "KNN.fit(scaledData, classLabel)\n",
    "KNNpred = cross_val_predict(KNN,scaledData,classLabel, cv=10)\n",
    "print(classification_report(classLabel,KNNpred))"
   ]
  },
  {
   "cell_type": "markdown",
   "metadata": {},
   "source": [
    "We will tune hyperparameters for `k` using grid search below:"
   ]
  },
  {
   "cell_type": "code",
   "execution_count": 13,
   "metadata": {},
   "outputs": [
    {
     "name": "stdout",
     "output_type": "stream",
     "text": [
      "Best Value of k:  23\n",
      "{'n_neighbors': 23}\n"
     ]
    }
   ],
   "source": [
    "grid_params = {'n_neighbors': range(1, 31)}\n",
    "optimalk = GridSearchCV(KNN, grid_params, cv=10, scoring='accuracy')\n",
    "optimalk.fit(scaledData,classLabel)\n",
    "print(\"Best Value of k: \", str(optimalk.best_params_['n_neighbors']))\n",
    "print(optimalk.best_params_)"
   ]
  },
  {
   "cell_type": "markdown",
   "metadata": {},
   "source": [
    "Below are the new error measures for the new `k = 23` classifier. Note the improvement (albeit small) over the previous placeholder value of 5."
   ]
  },
  {
   "cell_type": "code",
   "execution_count": 14,
   "metadata": {
    "scrolled": true
   },
   "outputs": [
    {
     "name": "stdout",
     "output_type": "stream",
     "text": [
      "              precision    recall  f1-score   support\n",
      "\n",
      "           0       0.62      0.72      0.67       540\n",
      "           1       0.71      0.61      0.65       611\n",
      "\n",
      "    accuracy                           0.66      1151\n",
      "   macro avg       0.66      0.66      0.66      1151\n",
      "weighted avg       0.67      0.66      0.66      1151\n",
      "\n"
     ]
    }
   ],
   "source": [
    "newKNN = KNeighborsClassifier(n_neighbors = 23)\n",
    "newKNN.fit(scaledData,classLabel)\n",
    "newKNNpred = cross_val_predict(newKNN,scaledData,classLabel, cv = 10)\n",
    "print(classification_report(classLabel,newKNNpred))"
   ]
  },
  {
   "cell_type": "markdown",
   "metadata": {},
   "source": [
    "Below, a nested 10 fold cross validation is used with our prior grid search object. This will prevent overfitting, and will give us a good idea of the generalization error of our model. The arrays+measures printed below are in the following order of scoring categories:\n",
    "* Accuracy\n",
    "* Recall\n",
    "* Precision"
   ]
  },
  {
   "cell_type": "code",
   "execution_count": 34,
   "metadata": {
    "scrolled": true
   },
   "outputs": [
    {
     "name": "stdout",
     "output_type": "stream",
     "text": [
      "[0.6637931  0.66956522 0.72173913 0.62608696 0.65217391 0.72173913\n",
      " 0.5826087  0.65217391 0.6173913  0.64347826]\n",
      "0.6550749625187406\n",
      "[0.58064516 0.63934426 0.72131148 0.50819672 0.55737705 0.70491803\n",
      " 0.47540984 0.52459016 0.60655738 0.52459016]\n",
      "0.5842940243257535\n",
      "[0.73469388 0.70909091 0.74576271 0.70454545 0.72340426 0.75438596\n",
      " 0.64444444 0.74418605 0.64912281 0.72727273]\n",
      "0.7136909198529564\n"
     ]
    }
   ],
   "source": [
    "#yaga = cross_val_predict(optimalk, scaledData, classLabel, cv = 10)\n",
    "yaga = cross_val_score(optimalk, scaledData, classLabel, cv = 10)\n",
    "yaga2 = cross_val_score(optimalk, scaledData, classLabel, cv = 10, scoring='recall')\n",
    "yaga3 = cross_val_score(optimalk, scaledData, classLabel, cv = 10, scoring='precision')\n",
    "\n",
    "#print(classification_report(classLabel,yaga))\n",
    "# accuracy\n",
    "print(yaga)\n",
    "print(yaga.mean())\n",
    "\n",
    "# recall\n",
    "print(yaga2)\n",
    "print(yaga2.mean())\n",
    "\n",
    "#precision\n",
    "print(yaga3)\n",
    "print(yaga3.mean())"
   ]
  },
  {
   "cell_type": "markdown",
   "metadata": {},
   "source": [
    "Below, the code is using a PCA transformation on the data within a cross validation. However, the difference is that a pipeline must be used in order to apply this properly. The code as set up will first apply the PCA to the training data, and THEN the test data will be transformed into that space. The KNN classifier will be applied right after the PCA within the folds on both the train AND the test data. This is all done in order to avoid the curse of dimensionality (which can also be done with feature engineering/selection)."
   ]
  },
  {
   "cell_type": "code",
   "execution_count": 29,
   "metadata": {},
   "outputs": [
    {
     "name": "stdout",
     "output_type": "stream",
     "text": [
      "{'knn__n_neighbors': 23, 'pca__n_components': 13}\n",
      "0.6603124411820064\n"
     ]
    }
   ],
   "source": [
    "from sklearn.decomposition import PCA\n",
    "from sklearn.pipeline import Pipeline\n",
    "\n",
    "pca = PCA()\n",
    "knn = KNeighborsClassifier()\n",
    "pipe = Pipeline(steps=[('pca', pca), ('knn', knn)])\n",
    "\n",
    "#Parameters of pipelines are set using ‘__’ separated parameter names:\n",
    "param_grid = {\n",
    "    'pca__n_components': list(range(1, 19)),\n",
    "    'knn__n_neighbors': list(range(1, 30)),\n",
    "}\n",
    "#Pipeline is passed into the GridSearchCV below for 5-fold \n",
    "gridz = GridSearchCV(pipe, param_grid=param_grid, scoring=\"accuracy\", cv = 5)\n",
    "gridz.fit(scaledData,classLabel)\n",
    "print(gridz.best_params_)\n",
    "print(gridz.best_score_)"
   ]
  },
  {
   "cell_type": "markdown",
   "metadata": {},
   "source": [
    "As can be seen above, we are left with an accuracy of ~66% which can be significantly improved upon but is nearly 10% better than when we started with only a few basic tweaks."
   ]
  },
  {
   "cell_type": "code",
   "execution_count": null,
   "metadata": {},
   "outputs": [],
   "source": []
  }
 ],
 "metadata": {
  "kernelspec": {
   "display_name": "Python 3",
   "language": "python",
   "name": "python3"
  },
  "language_info": {
   "codemirror_mode": {
    "name": "ipython",
    "version": 3
   },
   "file_extension": ".py",
   "mimetype": "text/x-python",
   "name": "python",
   "nbconvert_exporter": "python",
   "pygments_lexer": "ipython3",
   "version": "3.8.3"
  }
 },
 "nbformat": 4,
 "nbformat_minor": 2
}
